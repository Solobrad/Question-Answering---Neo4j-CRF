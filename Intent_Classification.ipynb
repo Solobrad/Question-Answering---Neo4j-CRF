{
 "cells": [
  {
   "cell_type": "markdown",
   "metadata": {},
   "source": [
    "# 10 Questions "
   ]
  },
  {
   "cell_type": "code",
   "execution_count": 48,
   "metadata": {},
   "outputs": [],
   "source": [
    "import tensorflow as tf\n",
    "from tensorflow.keras.optimizers import SGD, Adam, Nadam, RMSprop\n",
    "from tensorflow.keras.preprocessing.text import Tokenizer\n",
    "from tensorflow.keras.preprocessing.sequence import pad_sequences\n",
    "from tensorflow.keras.utils import to_categorical\n",
    "from tensorflow.keras.models import Sequential, load_model, Model\n",
    "from tensorflow.keras.layers import Embedding, Conv1D, MaxPooling1D, Dense, Activation, Dropout, Flatten, LSTM\n",
    "from tensorflow.keras.preprocessing.image import ImageDataGenerator\n",
    "from tensorflow.keras.preprocessing.text import text_to_word_sequence, one_hot, Tokenizer\n",
    "from tensorflow.keras.constraints import max_norm\n",
    "from tensorflow.keras.callbacks import ModelCheckpoint, TensorBoard, ReduceLROnPlateau, EarlyStopping\n",
    "from tensorflow.keras.applications import Xception\n",
    "from tensorflow.keras import regularizers\n",
    "from tensorflow.keras import backend as K\n",
    "from tensorflow.keras.preprocessing import sequence\n",
    "import numpy as np\n",
    "import pandas as pd\n",
    "import cv2\n",
    "import os\n",
    "import glob\n",
    "import math\n",
    "import matplotlib.pyplot as plt\n",
    "import pickle\n",
    "\n",
    "\n"
   ]
  },
  {
   "cell_type": "code",
   "execution_count": 49,
   "metadata": {},
   "outputs": [
    {
     "data": {
      "text/html": [
       "<div>\n",
       "<style scoped>\n",
       "    .dataframe tbody tr th:only-of-type {\n",
       "        vertical-align: middle;\n",
       "    }\n",
       "\n",
       "    .dataframe tbody tr th {\n",
       "        vertical-align: top;\n",
       "    }\n",
       "\n",
       "    .dataframe thead th {\n",
       "        text-align: right;\n",
       "    }\n",
       "</style>\n",
       "<table border=\"1\" class=\"dataframe\">\n",
       "  <thead>\n",
       "    <tr style=\"text-align: right;\">\n",
       "      <th></th>\n",
       "      <th>Question</th>\n",
       "      <th>scientific contributions</th>\n",
       "      <th>affiliations and locations</th>\n",
       "      <th>awards and recognitions</th>\n",
       "      <th>biography</th>\n",
       "      <th>influences and impact</th>\n",
       "    </tr>\n",
       "  </thead>\n",
       "  <tbody>\n",
       "    <tr>\n",
       "      <th>0</th>\n",
       "      <td>What did Marie Curie discover?</td>\n",
       "      <td>1</td>\n",
       "      <td>0</td>\n",
       "      <td>0</td>\n",
       "      <td>0</td>\n",
       "      <td>0</td>\n",
       "    </tr>\n",
       "    <tr>\n",
       "      <th>1</th>\n",
       "      <td>What is radium?</td>\n",
       "      <td>1</td>\n",
       "      <td>0</td>\n",
       "      <td>0</td>\n",
       "      <td>0</td>\n",
       "      <td>0</td>\n",
       "    </tr>\n",
       "    <tr>\n",
       "      <th>2</th>\n",
       "      <td>What is polonium?</td>\n",
       "      <td>1</td>\n",
       "      <td>0</td>\n",
       "      <td>0</td>\n",
       "      <td>0</td>\n",
       "      <td>0</td>\n",
       "    </tr>\n",
       "    <tr>\n",
       "      <th>3</th>\n",
       "      <td>How did Marie Curie study radioactivity?</td>\n",
       "      <td>1</td>\n",
       "      <td>0</td>\n",
       "      <td>0</td>\n",
       "      <td>0</td>\n",
       "      <td>0</td>\n",
       "    </tr>\n",
       "    <tr>\n",
       "      <th>4</th>\n",
       "      <td>What was Marie Curie's role in developing X-ra...</td>\n",
       "      <td>1</td>\n",
       "      <td>0</td>\n",
       "      <td>0</td>\n",
       "      <td>0</td>\n",
       "      <td>0</td>\n",
       "    </tr>\n",
       "  </tbody>\n",
       "</table>\n",
       "</div>"
      ],
      "text/plain": [
       "                                            Question  \\\n",
       "0                     What did Marie Curie discover?   \n",
       "1                                    What is radium?   \n",
       "2                                  What is polonium?   \n",
       "3           How did Marie Curie study radioactivity?   \n",
       "4  What was Marie Curie's role in developing X-ra...   \n",
       "\n",
       "   scientific contributions  affiliations and locations  \\\n",
       "0                         1                           0   \n",
       "1                         1                           0   \n",
       "2                         1                           0   \n",
       "3                         1                           0   \n",
       "4                         1                           0   \n",
       "\n",
       "   awards and recognitions  biography  influences and impact  \n",
       "0                        0          0                      0  \n",
       "1                        0          0                      0  \n",
       "2                        0          0                      0  \n",
       "3                        0          0                      0  \n",
       "4                        0          0                      0  "
      ]
     },
     "execution_count": 49,
     "metadata": {},
     "output_type": "execute_result"
    }
   ],
   "source": [
    "# Sample questions and intents\n",
    "train_df = pd.read_excel(f\"Questions.xlsx\") # Loading a excel file with headers\n",
    "train_df.head()"
   ]
  },
  {
   "cell_type": "code",
   "execution_count": 50,
   "metadata": {},
   "outputs": [
    {
     "data": {
      "text/html": [
       "<div>\n",
       "<style scoped>\n",
       "    .dataframe tbody tr th:only-of-type {\n",
       "        vertical-align: middle;\n",
       "    }\n",
       "\n",
       "    .dataframe tbody tr th {\n",
       "        vertical-align: top;\n",
       "    }\n",
       "\n",
       "    .dataframe thead th {\n",
       "        text-align: right;\n",
       "    }\n",
       "</style>\n",
       "<table border=\"1\" class=\"dataframe\">\n",
       "  <thead>\n",
       "    <tr style=\"text-align: right;\">\n",
       "      <th></th>\n",
       "      <th>Question</th>\n",
       "      <th>scientific contributions</th>\n",
       "      <th>affiliations and locations</th>\n",
       "      <th>awards and recognitions</th>\n",
       "      <th>biography</th>\n",
       "      <th>influences and impact</th>\n",
       "    </tr>\n",
       "  </thead>\n",
       "  <tbody>\n",
       "    <tr>\n",
       "      <th>149</th>\n",
       "      <td>What was the significance of Marie Curie’s wor...</td>\n",
       "      <td>0</td>\n",
       "      <td>0</td>\n",
       "      <td>0</td>\n",
       "      <td>0</td>\n",
       "      <td>1</td>\n",
       "    </tr>\n",
       "    <tr>\n",
       "      <th>88</th>\n",
       "      <td>What awards did Marie Curie receive for her wo...</td>\n",
       "      <td>0</td>\n",
       "      <td>0</td>\n",
       "      <td>1</td>\n",
       "      <td>0</td>\n",
       "      <td>0</td>\n",
       "    </tr>\n",
       "    <tr>\n",
       "      <th>72</th>\n",
       "      <td>What recognitions did Marie Curie receive for ...</td>\n",
       "      <td>0</td>\n",
       "      <td>0</td>\n",
       "      <td>1</td>\n",
       "      <td>0</td>\n",
       "      <td>0</td>\n",
       "    </tr>\n",
       "    <tr>\n",
       "      <th>87</th>\n",
       "      <td>How did Marie Curie’s achievements shape her l...</td>\n",
       "      <td>0</td>\n",
       "      <td>0</td>\n",
       "      <td>1</td>\n",
       "      <td>0</td>\n",
       "      <td>0</td>\n",
       "    </tr>\n",
       "    <tr>\n",
       "      <th>98</th>\n",
       "      <td>What accolades did Marie Curie receive from ac...</td>\n",
       "      <td>0</td>\n",
       "      <td>0</td>\n",
       "      <td>1</td>\n",
       "      <td>0</td>\n",
       "      <td>0</td>\n",
       "    </tr>\n",
       "  </tbody>\n",
       "</table>\n",
       "</div>"
      ],
      "text/plain": [
       "                                              Question  \\\n",
       "149  What was the significance of Marie Curie’s wor...   \n",
       "88   What awards did Marie Curie receive for her wo...   \n",
       "72   What recognitions did Marie Curie receive for ...   \n",
       "87   How did Marie Curie’s achievements shape her l...   \n",
       "98   What accolades did Marie Curie receive from ac...   \n",
       "\n",
       "     scientific contributions  affiliations and locations  \\\n",
       "149                         0                           0   \n",
       "88                          0                           0   \n",
       "72                          0                           0   \n",
       "87                          0                           0   \n",
       "98                          0                           0   \n",
       "\n",
       "     awards and recognitions  biography  influences and impact  \n",
       "149                        0          0                      1  \n",
       "88                         1          0                      0  \n",
       "72                         1          0                      0  \n",
       "87                         1          0                      0  \n",
       "98                         1          0                      0  "
      ]
     },
     "execution_count": 50,
     "metadata": {},
     "output_type": "execute_result"
    }
   ],
   "source": [
    "train_df = train_df.sample(frac=1)\n",
    "train_df.head()"
   ]
  },
  {
   "cell_type": "code",
   "execution_count": 51,
   "metadata": {},
   "outputs": [],
   "source": [
    "X_train = train_df[\"Question\"].fillna(\"fillna\").values\n",
    "Y_train = train_df[[ \n",
    "    \"scientific contributions\",\n",
    "    \"affiliations and locations\",\n",
    "    \"awards and recognitions\",\n",
    "    \"biography\",\n",
    "    \"influences and impact\"\n",
    "    ]].values"
   ]
  },
  {
   "cell_type": "code",
   "execution_count": 52,
   "metadata": {},
   "outputs": [
    {
     "name": "stdout",
     "output_type": "stream",
     "text": [
      "Shape of X_train: (190,)\n",
      "Shape of Y_train: (190, 5)\n"
     ]
    }
   ],
   "source": [
    "print(\"Shape of X_train:\",X_train.shape)\n",
    "print(\"Shape of Y_train:\",Y_train.shape)"
   ]
  },
  {
   "cell_type": "code",
   "execution_count": 53,
   "metadata": {},
   "outputs": [
    {
     "name": "stdout",
     "output_type": "stream",
     "text": [
      "Tokenizer vocabulary size: 216\n"
     ]
    }
   ],
   "source": [
    "Tokenizer = Tokenizer()\n",
    "texts = X_train\n",
    "Tokenizer.fit_on_texts(texts)\n",
    "Tokenizer_vocab_size = len(Tokenizer.word_index) + 1\n",
    "print(\"Tokenizer vocabulary size:\",Tokenizer_vocab_size)"
   ]
  },
  {
   "cell_type": "code",
   "execution_count": 54,
   "metadata": {},
   "outputs": [
    {
     "data": {
      "text/plain": [
       "86"
      ]
     },
     "execution_count": 54,
     "metadata": {},
     "output_type": "execute_result"
    }
   ],
   "source": [
    "len(max(X_train,key=len))"
   ]
  },
  {
   "cell_type": "code",
   "execution_count": 55,
   "metadata": {},
   "outputs": [
    {
     "name": "stdout",
     "output_type": "stream",
     "text": [
      "(Input->Question) Length of X_train: (140,)\n",
      "(output->Labels) Length of Y_train: (140, 5)\n"
     ]
    }
   ],
   "source": [
    "maxWordCount= 100\n",
    "maxDictionary_size=Tokenizer_vocab_size\n",
    "\n",
    "num_test_samples = 50 # Test samples for validation\n",
    "\n",
    "\n",
    "# Phase 1: Setting up data for training\n",
    "X_train = X_train[num_test_samples:] # 50 samples to n ----> Sentence (Input)\n",
    "Y_train = Y_train[num_test_samples:] # 50 samples to n ----> Labels (Output)\n",
    "\n",
    "# Phase 2: Setting up data for validation\n",
    "X_val = X_train[:num_test_samples] # First 51 Samples --> Sentence (Input)\n",
    "Y_val = Y_train[:num_test_samples] # First 51 Samples --> Labels (Output)\n",
    "\n",
    "print(\"(Input->Question) Length of X_train:\",X_train.shape) # Input -> Input\n",
    "print(\"(output->Labels) Length of Y_train:\",Y_train.shape) # output -> Labels"
   ]
  },
  {
   "cell_type": "code",
   "execution_count": 56,
   "metadata": {},
   "outputs": [],
   "source": [
    "X_train_encoded_words = Tokenizer.texts_to_sequences(X_train)\n",
    "X_val_encoded_words = Tokenizer.texts_to_sequences(X_val)\n",
    "\n",
    "X_train_encoded_padded_words = sequence.pad_sequences(X_train_encoded_words, maxlen=maxWordCount)\n",
    "X_val_encoded_padded_words = sequence.pad_sequences(X_val_encoded_words, maxlen=maxWordCount)"
   ]
  },
  {
   "cell_type": "code",
   "execution_count": null,
   "metadata": {},
   "outputs": [],
   "source": []
  },
  {
   "cell_type": "code",
   "execution_count": null,
   "metadata": {},
   "outputs": [],
   "source": []
  },
  {
   "cell_type": "markdown",
   "metadata": {},
   "source": [
    "# LSTM Model"
   ]
  },
  {
   "cell_type": "code",
   "execution_count": 57,
   "metadata": {},
   "outputs": [
    {
     "name": "stdout",
     "output_type": "stream",
     "text": [
      "Model: \"sequential_2\"\n",
      "_________________________________________________________________\n",
      " Layer (type)                Output Shape              Param #   \n",
      "=================================================================\n",
      " embedding_2 (Embedding)     (None, 100, 32)           6912      \n",
      "                                                                 \n",
      " lstm_2 (LSTM)               (None, 10)                1720      \n",
      "                                                                 \n",
      " dropout_3 (Dropout)         (None, 10)                0         \n",
      "                                                                 \n",
      " dense_6 (Dense)             (None, 1200)              13200     \n",
      "                                                                 \n",
      " dropout_4 (Dropout)         (None, 1200)              0         \n",
      "                                                                 \n",
      " dense_7 (Dense)             (None, 500)               600500    \n",
      "                                                                 \n",
      " dense_8 (Dense)             (None, 5)                 2505      \n",
      "                                                                 \n",
      "=================================================================\n",
      "Total params: 624,837\n",
      "Trainable params: 624,837\n",
      "Non-trainable params: 0\n",
      "_________________________________________________________________\n"
     ]
    }
   ],
   "source": [
    "#model\n",
    "model = Sequential()\n",
    "\n",
    "model.add(Embedding(maxDictionary_size, 32, input_length=maxWordCount)) #to change words to ints\n",
    "\n",
    "#hidden layers\n",
    "model.add(LSTM(10))\n",
    "\n",
    "model.add(Dropout(0.5))\n",
    "\n",
    "model.add(Dense(units=1200, activation='relu', kernel_constraint=max_norm(1)))\n",
    "\n",
    "model.add(Dropout(0.5))\n",
    "\n",
    "model.add(Dense(units=500, activation='relu', kernel_constraint=max_norm(1)))\n",
    "\n",
    " #output layer\n",
    "model.add(Dense(5, activation='softmax'))\n",
    "\n",
    "model.summary()"
   ]
  },
  {
   "cell_type": "markdown",
   "metadata": {},
   "source": [
    "# Train Model"
   ]
  },
  {
   "cell_type": "code",
   "execution_count": 64,
   "metadata": {},
   "outputs": [
    {
     "name": "stdout",
     "output_type": "stream",
     "text": [
      "Epoch 1/25\n",
      "5/5 [==============================] - 4s 176ms/step - loss: 0.3725 - accuracy: 0.9000 - val_loss: 0.1161 - val_accuracy: 0.9800\n",
      "Epoch 2/25\n",
      "5/5 [==============================] - 0s 43ms/step - loss: 0.3549 - accuracy: 0.8500 - val_loss: 0.0818 - val_accuracy: 1.0000\n",
      "Epoch 3/25\n",
      "5/5 [==============================] - 0s 43ms/step - loss: 0.1929 - accuracy: 0.9143 - val_loss: 0.0716 - val_accuracy: 1.0000\n",
      "Epoch 4/25\n",
      "5/5 [==============================] - 0s 43ms/step - loss: 0.2513 - accuracy: 0.9000 - val_loss: 0.0934 - val_accuracy: 1.0000\n",
      "Epoch 5/25\n",
      "5/5 [==============================] - 0s 42ms/step - loss: 0.1791 - accuracy: 0.9429 - val_loss: 0.0549 - val_accuracy: 0.9800\n",
      "Epoch 6/25\n",
      "5/5 [==============================] - 0s 42ms/step - loss: 0.1602 - accuracy: 0.9214 - val_loss: 0.0543 - val_accuracy: 0.9800\n",
      "Epoch 7/25\n",
      "5/5 [==============================] - 0s 50ms/step - loss: 0.1742 - accuracy: 0.9429 - val_loss: 0.0555 - val_accuracy: 0.9800\n",
      "Epoch 8/25\n",
      "5/5 [==============================] - 0s 42ms/step - loss: 0.2207 - accuracy: 0.9214 - val_loss: 0.0701 - val_accuracy: 0.9800\n",
      "Epoch 9/25\n",
      "5/5 [==============================] - 0s 43ms/step - loss: 0.2466 - accuracy: 0.9429 - val_loss: 0.0344 - val_accuracy: 1.0000\n",
      "Epoch 10/25\n",
      "5/5 [==============================] - 0s 42ms/step - loss: 0.1464 - accuracy: 0.9500 - val_loss: 0.0250 - val_accuracy: 1.0000\n",
      "Epoch 11/25\n",
      "5/5 [==============================] - 0s 42ms/step - loss: 0.1852 - accuracy: 0.9071 - val_loss: 0.0509 - val_accuracy: 0.9800\n",
      "Epoch 12/25\n",
      "5/5 [==============================] - 0s 44ms/step - loss: 0.1759 - accuracy: 0.9357 - val_loss: 0.0236 - val_accuracy: 1.0000\n",
      "Epoch 13/25\n",
      "5/5 [==============================] - 0s 43ms/step - loss: 0.1492 - accuracy: 0.9429 - val_loss: 0.0198 - val_accuracy: 1.0000\n",
      "Epoch 14/25\n",
      "5/5 [==============================] - 0s 43ms/step - loss: 0.2219 - accuracy: 0.9214 - val_loss: 0.0272 - val_accuracy: 1.0000\n",
      "Epoch 15/25\n",
      "5/5 [==============================] - 0s 41ms/step - loss: 0.2146 - accuracy: 0.9286 - val_loss: 0.0202 - val_accuracy: 1.0000\n",
      "Epoch 16/25\n",
      "5/5 [==============================] - 0s 43ms/step - loss: 0.2375 - accuracy: 0.9071 - val_loss: 0.0209 - val_accuracy: 1.0000\n",
      "Epoch 17/25\n",
      "5/5 [==============================] - 0s 42ms/step - loss: 0.2109 - accuracy: 0.9286 - val_loss: 0.0191 - val_accuracy: 1.0000\n",
      "Epoch 18/25\n",
      "5/5 [==============================] - 0s 43ms/step - loss: 0.1906 - accuracy: 0.9214 - val_loss: 0.0115 - val_accuracy: 1.0000\n",
      "Epoch 19/25\n",
      "5/5 [==============================] - 0s 43ms/step - loss: 0.1805 - accuracy: 0.9214 - val_loss: 0.0220 - val_accuracy: 1.0000\n",
      "Epoch 20/25\n",
      "5/5 [==============================] - 0s 44ms/step - loss: 0.1332 - accuracy: 0.9357 - val_loss: 0.0100 - val_accuracy: 1.0000\n",
      "Epoch 21/25\n",
      "5/5 [==============================] - 0s 42ms/step - loss: 0.1627 - accuracy: 0.9286 - val_loss: 0.0084 - val_accuracy: 1.0000\n",
      "Epoch 22/25\n",
      "5/5 [==============================] - 0s 42ms/step - loss: 0.1213 - accuracy: 0.9643 - val_loss: 0.0095 - val_accuracy: 1.0000\n",
      "Epoch 23/25\n",
      "5/5 [==============================] - 0s 43ms/step - loss: 0.1559 - accuracy: 0.9429 - val_loss: 0.0079 - val_accuracy: 1.0000\n",
      "Epoch 24/25\n",
      "5/5 [==============================] - 0s 45ms/step - loss: 0.1290 - accuracy: 0.9571 - val_loss: 0.0169 - val_accuracy: 1.0000\n",
      "Epoch 25/25\n",
      "5/5 [==============================] - 0s 44ms/step - loss: 0.1232 - accuracy: 0.9500 - val_loss: 0.0074 - val_accuracy: 1.0000\n"
     ]
    }
   ],
   "source": [
    "\n",
    "epochs = 25\n",
    "batch_size = 32 #32\n",
    "\n",
    "nadam = Nadam(learning_rate=0.002, beta_1=0.9, beta_2=0.999, epsilon=1e-08)\n",
    "\n",
    "# Compile model\n",
    "model.compile(loss='categorical_crossentropy', optimizer=nadam, metrics=['accuracy'])\n",
    "\n",
    "history  = model.fit(X_train_encoded_padded_words,Y_train, epochs = epochs, batch_size=batch_size, verbose=1,\n",
    "                    validation_data=(X_val_encoded_padded_words, Y_val))"
   ]
  },
  {
   "cell_type": "code",
   "execution_count": 66,
   "metadata": {},
   "outputs": [
    {
     "name": "stdout",
     "output_type": "stream",
     "text": [
      "1/1 [==============================] - 0s 53ms/step\n",
      "[[9.9658465e-01 2.4312774e-03 5.0097728e-06 3.5526366e-06 9.7547309e-04]]\n",
      "Result: scientific contributions\n"
     ]
    }
   ],
   "source": [
    "# Tokenization and padding process\n",
    "phrase = \"What did Marie Curie discover?\"\n",
    "tokens = Tokenizer.texts_to_sequences([phrase])\n",
    "tokens = pad_sequences(tokens, maxlen=100)\n",
    "prediction = model.predict(np.array(tokens))\n",
    "\n",
    "i,j = np.where(prediction == prediction.max()) #calculates the index of the maximum element of the array across all axis\n",
    "# i->rows, j->columns\n",
    "i = int(i)\n",
    "j = int(j)\n",
    "\n",
    "print(prediction)\n",
    "total_possible_outcomes = [    \n",
    "    \"scientific contributions\",\n",
    "    \"affiliations and locations\",\n",
    "    \"awards and recognitions\",\n",
    "    \"biography\",\n",
    "    \"influences and impact\"\n",
    "    ]\n",
    "print(\"Result:\",total_possible_outcomes[j])"
   ]
  },
  {
   "cell_type": "code",
   "execution_count": 67,
   "metadata": {},
   "outputs": [],
   "source": [
    "\n",
    "model.save('Trained Models/intent_classification_model.h5')\n"
   ]
  },
  {
   "cell_type": "code",
   "execution_count": 68,
   "metadata": {},
   "outputs": [],
   "source": [
    "model.save_weights('Trained Models/intent_classification_weights.h5')\n"
   ]
  },
  {
   "cell_type": "code",
   "execution_count": 69,
   "metadata": {},
   "outputs": [],
   "source": [
    "with open('Trained Models/tokenizer.pkl', 'wb') as f:\n",
    "    pickle.dump(Tokenizer, f, protocol=pickle.HIGHEST_PROTOCOL)"
   ]
  },
  {
   "cell_type": "code",
   "execution_count": null,
   "metadata": {},
   "outputs": [],
   "source": []
  }
 ],
 "metadata": {
  "kernelspec": {
   "display_name": "Python (myenv)",
   "language": "python",
   "name": "myenv"
  },
  "language_info": {
   "codemirror_mode": {
    "name": "ipython",
    "version": 3
   },
   "file_extension": ".py",
   "mimetype": "text/x-python",
   "name": "python",
   "nbconvert_exporter": "python",
   "pygments_lexer": "ipython3",
   "version": "3.10.4"
  }
 },
 "nbformat": 4,
 "nbformat_minor": 2
}
